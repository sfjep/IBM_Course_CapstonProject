{
 "cells": [
  {
   "cell_type": "code",
   "execution_count": 503,
   "metadata": {},
   "outputs": [],
   "source": [
    "# IMPORT LIBRARIES\n",
    "import pandas as pd\n",
    "import numpy as np\n",
    "\n",
    "import matplotlib.pyplot as plt\n",
    "from matplotlib import colors\n",
    "import seaborn as sns \n",
    "\n",
    "from sklearn.preprocessing import StandardScaler\n",
    "from sklearn import preprocessing, metrics, tree, svm\n",
    "from sklearn.model_selection import train_test_split, GridSearchCV, KFold, cross_val_score\n",
    "from sklearn.neighbors import KNeighborsClassifier, KNeighborsRegressor\n",
    "from sklearn.tree import DecisionTreeClassifier, export_graphviz, DecisionTreeRegressor\n",
    "from sklearn.externals.six import StringIO\n",
    "from sklearn.metrics import classification_report, confusion_matrix, jaccard_similarity_score, log_loss, f1_score, mean_squared_error, mean_absolute_error \n",
    "from sklearn.ensemble import RandomForestRegressor, GradientBoostingRegressor\n",
    "from sklearn.linear_model import LinearRegression, Lasso, ElasticNet\n",
    "from sklearn.svm import SVR\n",
    "from sklearn.pipeline import Pipeline\n",
    "\n",
    "pd.set_option('display.max_columns', None)\n",
    "pd.set_option('display.max_rows', None)"
   ]
  },
  {
   "cell_type": "code",
   "execution_count": 611,
   "metadata": {},
   "outputs": [],
   "source": [
    "# Import Dataframe\n",
    "df = pd.read_csv('df_FeatureSelection.csv')"
   ]
  },
  {
   "cell_type": "code",
   "execution_count": 514,
   "metadata": {},
   "outputs": [],
   "source": [
    "df.drop('SalePrice', axis = 1, inplace = True)\n",
    "\n",
    "# DROP VARIABLES WITH LARGE VIF FACTOR OR LACK OF OBSERVATIONS\n",
    "df.drop(['PoolArea', 'Exterior1st_CBlock', 'Exterior1st_VinylSd', 'SaleType_New', \n",
    "         'SaleCondition_Partial', 'GarageType_BuiltIn', 'Electrical_FuseA', 'Heating_GasA', \n",
    "         'ExterQual_TA', 'ExterCond_TA', 'Condition1_Norm','RoofStyle_Gable', 'RoofMatl_CompShg', \n",
    "         'Functional_Typ', 'HouseStyle_2Story', 'Exterior1st_ImStucc', 'Exterior1st_AsphShn', \n",
    "         'ExterCond_Po', 'Exterior1st_BrkComm'], axis = 1, inplace = True)\n",
    "\n",
    "# DROP VARIABLES WITH LARGE VIF FACTOR (FourSquare Features)\n",
    "'''\n",
    "From the ranking system, we see that neighborhoods with many restaurants, tend to have many stores, nightlife, services \n",
    "and grocery options. They could therefore be argued to capture the same information about 'inner city housing'\n",
    "We will drop stores, nightlife, grocery and services.\n",
    "'''\n",
    "df.drop(['stores', 'nightlife', 'grocery', 'service'], axis = 1, inplace = True)"
   ]
  },
  {
   "cell_type": "code",
   "execution_count": 537,
   "metadata": {},
   "outputs": [],
   "source": [
    "# Create X and y dataframes\n",
    "X = df.iloc[:,1:]\n",
    "X.drop(['SalePrice_log'], axis = 1, inplace = True)\n",
    "y = df['SalePrice_log'].values\n",
    "\n",
    "fs_api =  ['restaurants', 'transport', 'school', 'golf', 'park', \n",
    "           'recreational', 'cultural', 'leisure']\n",
    "\n",
    "# Create two sample sets to compare, one without the Foursquare API data, and one without the Neighborhood columns\n",
    "X = X[X.columns.drop(list(X.filter(regex='Neighborhood')))]\n",
    "\n",
    "cnames = X.columns\n",
    "\n",
    "# STANDARDIZE\n",
    "X = preprocessing.StandardScaler().fit(X).transform(X)\n",
    "\n",
    "# Split into test and train set\n",
    "X_train, X_test, y_train, y_test = train_test_split(X, y, test_size=0.2, random_state=42)"
   ]
  },
  {
   "cell_type": "markdown",
   "metadata": {},
   "source": [
    "## Linear Regression"
   ]
  },
  {
   "cell_type": "code",
   "execution_count": 587,
   "metadata": {},
   "outputs": [],
   "source": [
    "import statsmodels.api as sm\n",
    "from statsmodels.stats.outliers_influence import variance_inflation_factor\n",
    "\n",
    "X_lin = pd.DataFrame(X_train)\n",
    "X_lin.columns = cnames\n",
    "\n",
    "X_lin = sm.add_constant(X_lin)\n",
    "model = sm.OLS(y_train,X_lin)\n",
    "results = model.fit()\n",
    "results_summary = results.summary()\n",
    "\n",
    "# Convert sm table to pandas df\n",
    "results_as_html = results_summary.tables[1].as_html()\n",
    "res_df = pd.read_html(results_as_html, header=0, index_col=0)[0]"
   ]
  },
  {
   "cell_type": "code",
   "execution_count": 590,
   "metadata": {},
   "outputs": [
    {
     "data": {
      "text/html": [
       "<div>\n",
       "<style scoped>\n",
       "    .dataframe tbody tr th:only-of-type {\n",
       "        vertical-align: middle;\n",
       "    }\n",
       "\n",
       "    .dataframe tbody tr th {\n",
       "        vertical-align: top;\n",
       "    }\n",
       "\n",
       "    .dataframe thead th {\n",
       "        text-align: right;\n",
       "    }\n",
       "</style>\n",
       "<table border=\"1\" class=\"dataframe\">\n",
       "  <thead>\n",
       "    <tr style=\"text-align: right;\">\n",
       "      <th></th>\n",
       "      <th>coef</th>\n",
       "      <th>std err</th>\n",
       "      <th>t</th>\n",
       "      <th>P&gt;|t|</th>\n",
       "      <th>[0.025</th>\n",
       "      <th>0.975]</th>\n",
       "    </tr>\n",
       "  </thead>\n",
       "  <tbody>\n",
       "    <tr>\n",
       "      <th>restaurants</th>\n",
       "      <td>-0.0125</td>\n",
       "      <td>0.011</td>\n",
       "      <td>-1.094</td>\n",
       "      <td>0.274</td>\n",
       "      <td>-0.035</td>\n",
       "      <td>0.010</td>\n",
       "    </tr>\n",
       "    <tr>\n",
       "      <th>transport</th>\n",
       "      <td>-0.0462</td>\n",
       "      <td>0.011</td>\n",
       "      <td>-4.022</td>\n",
       "      <td>0.000</td>\n",
       "      <td>-0.069</td>\n",
       "      <td>-0.024</td>\n",
       "    </tr>\n",
       "    <tr>\n",
       "      <th>school</th>\n",
       "      <td>0.0567</td>\n",
       "      <td>0.014</td>\n",
       "      <td>4.104</td>\n",
       "      <td>0.000</td>\n",
       "      <td>0.030</td>\n",
       "      <td>0.084</td>\n",
       "    </tr>\n",
       "    <tr>\n",
       "      <th>golf</th>\n",
       "      <td>-0.0002</td>\n",
       "      <td>0.006</td>\n",
       "      <td>-0.027</td>\n",
       "      <td>0.979</td>\n",
       "      <td>-0.012</td>\n",
       "      <td>0.012</td>\n",
       "    </tr>\n",
       "    <tr>\n",
       "      <th>park</th>\n",
       "      <td>0.0444</td>\n",
       "      <td>0.010</td>\n",
       "      <td>4.491</td>\n",
       "      <td>0.000</td>\n",
       "      <td>0.025</td>\n",
       "      <td>0.064</td>\n",
       "    </tr>\n",
       "    <tr>\n",
       "      <th>recreational</th>\n",
       "      <td>-0.0289</td>\n",
       "      <td>0.008</td>\n",
       "      <td>-3.828</td>\n",
       "      <td>0.000</td>\n",
       "      <td>-0.044</td>\n",
       "      <td>-0.014</td>\n",
       "    </tr>\n",
       "    <tr>\n",
       "      <th>cultural</th>\n",
       "      <td>-0.0137</td>\n",
       "      <td>0.010</td>\n",
       "      <td>-1.408</td>\n",
       "      <td>0.159</td>\n",
       "      <td>-0.033</td>\n",
       "      <td>0.005</td>\n",
       "    </tr>\n",
       "    <tr>\n",
       "      <th>leisure</th>\n",
       "      <td>0.0288</td>\n",
       "      <td>0.008</td>\n",
       "      <td>3.702</td>\n",
       "      <td>0.000</td>\n",
       "      <td>0.014</td>\n",
       "      <td>0.044</td>\n",
       "    </tr>\n",
       "  </tbody>\n",
       "</table>\n",
       "</div>"
      ],
      "text/plain": [
       "                coef  std err      t  P>|t|  [0.025  0.975]\n",
       "restaurants  -0.0125    0.011 -1.094  0.274  -0.035   0.010\n",
       "transport    -0.0462    0.011 -4.022  0.000  -0.069  -0.024\n",
       "school        0.0567    0.014  4.104  0.000   0.030   0.084\n",
       "golf         -0.0002    0.006 -0.027  0.979  -0.012   0.012\n",
       "park          0.0444    0.010  4.491  0.000   0.025   0.064\n",
       "recreational -0.0289    0.008 -3.828  0.000  -0.044  -0.014\n",
       "cultural     -0.0137    0.010 -1.408  0.159  -0.033   0.005\n",
       "leisure       0.0288    0.008  3.702  0.000   0.014   0.044"
      ]
     },
     "execution_count": 590,
     "metadata": {},
     "output_type": "execute_result"
    }
   ],
   "source": [
    "res_df.loc[fs_api,:]"
   ]
  },
  {
   "cell_type": "code",
   "execution_count": 526,
   "metadata": {},
   "outputs": [
    {
     "data": {
      "text/plain": [
       "const                     1.043760\n",
       "LotFrontage               2.423157\n",
       "LotArea                   3.530764\n",
       "OverallQual               4.849893\n",
       "OverallCond               2.586546\n",
       "YearRemodAdd              3.390467\n",
       "MasVnrArea                3.002730\n",
       "BsmtQual                  4.602003\n",
       "BsmtCond                  2.069923\n",
       "BsmtExposure              1.760244\n",
       "TotalBsmtSF               6.042632\n",
       "HeatingQC                 2.716219\n",
       "LowQualFinSF              2.147476\n",
       "GrLivArea                11.350008\n",
       "FullBath                  2.832632\n",
       "BedroomAbvGr              3.161269\n",
       "KitchenQual               3.009547\n",
       "TotRmsAbvGrd              5.934338\n",
       "Fireplaces                4.409977\n",
       "FireplaceQu               4.524157\n",
       "GarageCars                7.950517\n",
       "GarageArea                7.360771\n",
       "GarageQual                2.629626\n",
       "WoodDeckSF                1.454503\n",
       "OpenPorchSF               1.550347\n",
       "EnclosedPorch             1.651807\n",
       "3SsnPorch                 1.186935\n",
       "ScreenPorch               1.304572\n",
       "PoolQC                    1.559949\n",
       "MiscVal                   2.577550\n",
       "MoSold                    1.207133\n",
       "restaurants               6.981374\n",
       "transport                 7.028144\n",
       "school                   10.253657\n",
       "golf                      2.035974\n",
       "park                      5.227166\n",
       "recreational              2.960616\n",
       "cultural                  5.074032\n",
       "leisure                   3.146106\n",
       "age                      11.526122\n",
       "MSZoning_C (all)          1.472456\n",
       "MSZoning_FV               3.374277\n",
       "MSZoning_RH               1.448070\n",
       "MSZoning_RL               3.339864\n",
       "Street_Pave               1.195331\n",
       "Alley_Grvl                1.658437\n",
       "Alley_Pave                1.650669\n",
       "LotShape_IR2              1.336542\n",
       "LotShape_IR3              1.412344\n",
       "LotShape_Reg              1.694116\n",
       "LandContour_HLS           2.269977\n",
       "LandContour_Low           2.683635\n",
       "LandContour_Lvl           3.347684\n",
       "Utilities_NoSeWa          1.180887\n",
       "LotConfig_CulDSac         1.953459\n",
       "LotConfig_FR2             1.348579\n",
       "LotConfig_FR3             1.196738\n",
       "LotConfig_Inside          1.848565\n",
       "LandSlope_Mod             1.752646\n",
       "LandSlope_Sev             3.783566\n",
       "Condition1_Artery         1.397076\n",
       "Condition1_Feedr          1.349667\n",
       "Condition1_PosA           1.242139\n",
       "Condition1_PosN           1.302359\n",
       "Condition1_RRAe           1.244176\n",
       "Condition1_RRAn           1.248257\n",
       "Condition1_RRNn           1.200140\n",
       "BldgType_1Fam             3.801271\n",
       "BldgType_2fmCon           2.268550\n",
       "BldgType_Duplex           2.717392\n",
       "BldgType_Twnhs            1.902968\n",
       "HouseStyle_1.5Fin         1.973460\n",
       "HouseStyle_1.5Unf         1.373841\n",
       "HouseStyle_1Story         5.171970\n",
       "HouseStyle_2.5Fin         2.172195\n",
       "HouseStyle_2.5Unf         1.655340\n",
       "HouseStyle_SFoyer         1.735532\n",
       "RoofStyle_Gambrel         1.475990\n",
       "RoofStyle_Hip             1.560898\n",
       "RoofStyle_Mansard         1.413455\n",
       "RoofStyle_Shed            3.047873\n",
       "RoofMatl_Membran          1.435095\n",
       "RoofMatl_Metal            1.561386\n",
       "RoofMatl_Tar&Grv          1.690554\n",
       "RoofMatl_WdShake          1.981148\n",
       "RoofMatl_WdShngl          1.372388\n",
       "Exterior1st_BrkFace       1.681973\n",
       "Exterior1st_CemntBd       1.430427\n",
       "Exterior1st_HdBoard       2.157940\n",
       "Exterior1st_MetalSd       2.034693\n",
       "Exterior1st_Plywood       2.075233\n",
       "Exterior1st_Stone         1.428434\n",
       "Exterior1st_Stucco        1.533131\n",
       "Exterior1st_Wd Sdng       2.310815\n",
       "Exterior1st_WdShing       1.383206\n",
       "MasVnrType_BrkCmn         1.304223\n",
       "MasVnrType_BrkFace        2.727688\n",
       "MasVnrType_Stone          2.034525\n",
       "ExterQual_Fa              1.459025\n",
       "ExterQual_Gd              2.382051\n",
       "ExterCond_Ex              1.308039\n",
       "ExterCond_Gd              1.441736\n",
       "Foundation_CBlock         5.866962\n",
       "Foundation_PConc          7.863516\n",
       "Foundation_Slab           2.192296\n",
       "Foundation_Stone          1.379373\n",
       "Foundation_Wood           1.284505\n",
       "Heating_Floor             1.171909\n",
       "Heating_GasW              1.707515\n",
       "Heating_Grav              1.490892\n",
       "Heating_OthW              1.357453\n",
       "CentralAir_Y              2.582262\n",
       "Electrical_FuseF          1.619197\n",
       "Electrical_SBrkr          1.806415\n",
       "Functional_Maj1           1.288320\n",
       "Functional_Maj2           1.228935\n",
       "Functional_Min1           1.182215\n",
       "Functional_Min2           1.268208\n",
       "GarageType_Separate       2.547752\n",
       "GarageFinish_1            2.915282\n",
       "GarageFinish_2            3.006151\n",
       "PavedDrive_N              4.587157\n",
       "PavedDrive_Y              4.413783\n",
       "Fence_GdPrv               1.292193\n",
       "Fence_GdWo                1.196867\n",
       "Fence_MnPrv               1.403475\n",
       "Fence_MnWw                1.214464\n",
       "SaleType_CWD              1.251958\n",
       "SaleType_Con              1.252120\n",
       "SaleType_ConLD            1.335847\n",
       "SaleType_ConLI            1.216201\n",
       "SaleType_ConLw            1.379012\n",
       "SaleType_Oth              1.179456\n",
       "SaleType_WD               3.849170\n",
       "SaleCondition_AdjLand     1.660904\n",
       "SaleCondition_Alloca      1.654765\n",
       "SaleCondition_Family      1.368896\n",
       "SaleCondition_Normal      3.560580\n",
       "dtype: float64"
      ]
     },
     "execution_count": 526,
     "metadata": {},
     "output_type": "execute_result"
    }
   ],
   "source": [
    "from statsmodels.stats.outliers_influence import variance_inflation_factor as vif\n",
    "vif_series = pd.Series([vif(X_lin.values, i) \n",
    "               for i in range(X_lin.shape[1])], \n",
    "              index=X_lin.columns)\n",
    "vif_series"
   ]
  },
  {
   "cell_type": "markdown",
   "metadata": {},
   "source": [
    "## Spot check algorithms using cross-validation"
   ]
  },
  {
   "cell_type": "code",
   "execution_count": 527,
   "metadata": {},
   "outputs": [
    {
     "name": "stdout",
     "output_type": "stream",
     "text": [
      "LinearRegression: -3626332352.276269 (10878997056.468193)\n",
      "LassoRegression: -0.318790 (0.017632)\n",
      "ElasticNet: -0.318790 (0.017632)\n",
      "RandomForest: -0.105817 (0.006407)\n",
      "SupportVector: -0.127016 (0.014782)\n",
      "GradientBoosting: -0.096784 (0.005315)\n"
     ]
    }
   ],
   "source": [
    "pipelines = []\n",
    "pipelines.append(('LinearRegression', Pipeline([('LR',LinearRegression())])))\n",
    "pipelines.append(('LassoRegression', Pipeline([('LASSO', Lasso())])))\n",
    "pipelines.append(('ElasticNet', Pipeline([('EN', ElasticNet())])))\n",
    "pipelines.append(('RandomForest', Pipeline([('RF', RandomForestRegressor())])))\n",
    "pipelines.append(('SupportVector', Pipeline([('SVR', SVR())])))\n",
    "pipelines.append(('GradientBoosting', Pipeline([('GBM', GradientBoostingRegressor())])))\n",
    "\n",
    "kfold = KFold(n_splits=10)\n",
    "\n",
    "results = []\n",
    "names = []\n",
    "\n",
    "for name, model in pipelines:\n",
    "    \n",
    "    cv_results = cross_val_score(model, X_train, y_train, cv=kfold, scoring='neg_mean_absolute_error')\n",
    "    results.append(cv_results)\n",
    "    names.append(name)\n",
    "    #print(cv_results)\n",
    "    msg = \"%s: %f (%f)\" % (name, cv_results.mean(), cv_results.std())\n",
    "    print(msg)"
   ]
  },
  {
   "cell_type": "markdown",
   "metadata": {},
   "source": [
    "As can be seen from the neg_mean_absolute_error we observe a large error in the linear regression. This could be an effect of breaches to the assumptions underlying the regression model. Most likely highly correlated variables.\n",
    "\n",
    "Lasso and Elastic net makes more sense than a linear regression as we have a normalization effect.\n",
    "\n",
    "A random forest approach makes a lot of sense since we have a lot of binary variables (0-1 features).\n",
    "\n",
    "We see that support vectors, random forest and gradient boosting regression models perform better than the rest on the train set.\n",
    "\n",
    "As Random Forest is a tree-based model, we have a problem with our many categorical variables. From a splitting algorithms POW, all binary features are independent, and as a result, continuous variables are assigned higher importance and chosen as the top tree splits. One could alleviate this issue by using a H2o framework rather than SkLearn since H2o does not require categorical features to be one-hot encoded. This potential improvement is considered out of the scope of this project."
   ]
  },
  {
   "cell_type": "markdown",
   "metadata": {},
   "source": [
    "## Model Tuning"
   ]
  },
  {
   "cell_type": "markdown",
   "metadata": {},
   "source": [
    "#### Random Forest Tuning"
   ]
  },
  {
   "cell_type": "code",
   "execution_count": 591,
   "metadata": {},
   "outputs": [
    {
     "data": {
      "text/plain": [
       "GridSearchCV(cv=KFold(n_splits=10, random_state=None, shuffle=False),\n",
       "             error_score=nan,\n",
       "             estimator=RandomForestRegressor(bootstrap=True, ccp_alpha=0.0,\n",
       "                                             criterion='mae', max_depth=None,\n",
       "                                             max_features='auto',\n",
       "                                             max_leaf_nodes=None,\n",
       "                                             max_samples=None,\n",
       "                                             min_impurity_decrease=0.0,\n",
       "                                             min_impurity_split=None,\n",
       "                                             min_samples_leaf=1,\n",
       "                                             min_samples_split=2,\n",
       "                                             min_weight_fraction_leaf=0.0,\n",
       "                                             n_estimators=100, n_jobs=None,\n",
       "                                             oob_score=False, random_state=None,\n",
       "                                             verbose=0, warm_start=False),\n",
       "             iid='deprecated', n_jobs=None,\n",
       "             param_grid={'max_depth': range(20, 40, 5),\n",
       "                         'n_estimators': range(100, 300, 20)},\n",
       "             pre_dispatch='2*n_jobs', refit=True, return_train_score=False,\n",
       "             scoring='neg_mean_absolute_error', verbose=0)"
      ]
     },
     "execution_count": 591,
     "metadata": {},
     "output_type": "execute_result"
    }
   ],
   "source": [
    "parameters = {'n_estimators': range(100, 300, 20), \n",
    "              'max_depth': range(20, 40, 5)\n",
    "             }\n",
    "\n",
    "rf = RandomForestRegressor(criterion = 'mae')\n",
    "\n",
    "np.random.seed(1)\n",
    "gs_rf = GridSearchCV(rf, parameters, scoring = 'neg_mean_absolute_error', cv = kfold)\n",
    "gs_rf.fit(X_train, y_train)"
   ]
  },
  {
   "cell_type": "code",
   "execution_count": 595,
   "metadata": {},
   "outputs": [
    {
     "name": "stdout",
     "output_type": "stream",
     "text": [
      "RandomForestRegressor(bootstrap=True, ccp_alpha=0.0, criterion='mae',\n",
      "                      max_depth=25, max_features='auto', max_leaf_nodes=None,\n",
      "                      max_samples=None, min_impurity_decrease=0.0,\n",
      "                      min_impurity_split=None, min_samples_leaf=1,\n",
      "                      min_samples_split=2, min_weight_fraction_leaf=0.0,\n",
      "                      n_estimators=280, n_jobs=None, oob_score=False,\n",
      "                      random_state=None, verbose=0, warm_start=False)\n",
      "-0.10403987832041509\n",
      "-7581.398827834744\n"
     ]
    }
   ],
   "source": [
    "# Cross validation score\n",
    "print(gs_rf.best_estimator_)\n",
    "print(gs_rf.best_score_)\n",
    "\n",
    "# Neg Mean Abs Error\n",
    "y_pred_rf = np.expm1(gs_rf.best_estimator_.predict(X_train))\n",
    "nmae_rf = -mean_absolute_error(np.expm1(y_train), y_pred_rf)\n",
    "print(nmae_rf)"
   ]
  },
  {
   "cell_type": "markdown",
   "metadata": {},
   "source": [
    "280 estimators and max depth of 25 are found to be optimal. The tuned model performs slightly better than 0.105817 by the not-tuned model."
   ]
  },
  {
   "cell_type": "markdown",
   "metadata": {},
   "source": [
    "#### Support Vector Tuning"
   ]
  },
  {
   "cell_type": "code",
   "execution_count": 597,
   "metadata": {},
   "outputs": [
    {
     "data": {
      "text/plain": [
       "GridSearchCV(cv=KFold(n_splits=10, random_state=None, shuffle=False),\n",
       "             error_score=nan,\n",
       "             estimator=SVR(C=1.0, cache_size=200, coef0=0.0, degree=3,\n",
       "                           epsilon=0.1, gamma='scale', kernel='rbf',\n",
       "                           max_iter=-1, shrinking=True, tol=0.001,\n",
       "                           verbose=False),\n",
       "             iid='deprecated', n_jobs=None,\n",
       "             param_grid={'C': [0.1, 0.5, 1, 1.5, 2],\n",
       "                         'kernel': ('linear', 'sigmoid', 'rbf', 'poly')},\n",
       "             pre_dispatch='2*n_jobs', refit=True, return_train_score=False,\n",
       "             scoring='neg_mean_absolute_error', verbose=0)"
      ]
     },
     "execution_count": 597,
     "metadata": {},
     "output_type": "execute_result"
    }
   ],
   "source": [
    "parameters = {'C': [0.1, 0.5, 1, 1.5, 2], \n",
    "              'kernel': ('linear', 'sigmoid', 'rbf', 'poly')\n",
    "             }\n",
    "\n",
    "sv = SVR()\n",
    "gs_sv = GridSearchCV(sv, parameters, scoring = 'neg_mean_absolute_error', cv = kfold)\n",
    "gs_sv.fit(X_train, y_train)"
   ]
  },
  {
   "cell_type": "code",
   "execution_count": 601,
   "metadata": {},
   "outputs": [
    {
     "name": "stdout",
     "output_type": "stream",
     "text": [
      "-0.09912600866880174\n",
      "SVR(C=0.5, cache_size=200, coef0=0.0, degree=3, epsilon=0.1, gamma='scale',\n",
      "    kernel='linear', max_iter=-1, shrinking=True, tol=0.001, verbose=False)\n",
      "-17709.827784055844\n"
     ]
    }
   ],
   "source": [
    "# Cross validation score\n",
    "print(gs_sv.best_score_)\n",
    "print(gs_sv.best_estimator_)\n",
    "\n",
    "# Neg Mean Abs Error\n",
    "y_pred_sv = np.expm1(gs_sv.best_estimator_.predict(X_train))\n",
    "nmae_sv = -mean_absolute_error(np.expm1(y_train), y_pred_sv)\n",
    "print(nmae_sv)"
   ]
  },
  {
   "cell_type": "markdown",
   "metadata": {},
   "source": [
    "The tuned support vector performs much better from 0.127016 with the un-tuned version. The optimal C is found to be 0.5, and a linear kernel are optimal."
   ]
  },
  {
   "cell_type": "markdown",
   "metadata": {},
   "source": [
    "#### Gradient Boosting Tuning"
   ]
  },
  {
   "cell_type": "code",
   "execution_count": 602,
   "metadata": {},
   "outputs": [
    {
     "data": {
      "text/plain": [
       "GridSearchCV(cv=KFold(n_splits=10, random_state=None, shuffle=False),\n",
       "             error_score=nan,\n",
       "             estimator=GradientBoostingRegressor(alpha=0.9, ccp_alpha=0.0,\n",
       "                                                 criterion='friedman_mse',\n",
       "                                                 init=None, learning_rate=0.1,\n",
       "                                                 loss='ls', max_depth=3,\n",
       "                                                 max_features=None,\n",
       "                                                 max_leaf_nodes=None,\n",
       "                                                 min_impurity_decrease=0.0,\n",
       "                                                 min_impurity_split=None,\n",
       "                                                 min_samples_leaf=1,\n",
       "                                                 min_samples_split=2,\n",
       "                                                 min_w...\n",
       "                                                 random_state=None,\n",
       "                                                 subsample=1.0, tol=0.0001,\n",
       "                                                 validation_fraction=0.1,\n",
       "                                                 verbose=0, warm_start=False),\n",
       "             iid='deprecated', n_jobs=None,\n",
       "             param_grid={'learning_rate': [0.01, 0.05, 0.1, 0.15],\n",
       "                         'loss': ('ls', 'lad', 'huber', 'quantile'),\n",
       "                         'n_estimators': range(100, 200, 10)},\n",
       "             pre_dispatch='2*n_jobs', refit=True, return_train_score=False,\n",
       "             scoring='neg_mean_absolute_error', verbose=0)"
      ]
     },
     "execution_count": 602,
     "metadata": {},
     "output_type": "execute_result"
    }
   ],
   "source": [
    "parameters = {'learning_rate': [0.01, 0.05, 0.1, 0.15], \n",
    "              'n_estimators': range(100, 200, 10),\n",
    "              'loss': ('ls', 'lad', 'huber', 'quantile')\n",
    "             }\n",
    "\n",
    "gb = GradientBoostingRegressor()\n",
    "gs_gb = GridSearchCV(gb, parameters, scoring = 'neg_mean_absolute_error', cv = kfold)\n",
    "gs_gb.fit(X_train, y_train)"
   ]
  },
  {
   "cell_type": "code",
   "execution_count": 603,
   "metadata": {},
   "outputs": [
    {
     "name": "stdout",
     "output_type": "stream",
     "text": [
      "GradientBoostingRegressor(alpha=0.9, ccp_alpha=0.0, criterion='friedman_mse',\n",
      "                          init=None, learning_rate=0.1, loss='huber',\n",
      "                          max_depth=3, max_features=None, max_leaf_nodes=None,\n",
      "                          min_impurity_decrease=0.0, min_impurity_split=None,\n",
      "                          min_samples_leaf=1, min_samples_split=2,\n",
      "                          min_weight_fraction_leaf=0.0, n_estimators=180,\n",
      "                          n_iter_no_change=None, presort='deprecated',\n",
      "                          random_state=None, subsample=1.0, tol=0.0001,\n",
      "                          validation_fraction=0.1, verbose=0, warm_start=False)\n",
      "-0.0932840275546446\n",
      "-9391.55721358478\n"
     ]
    }
   ],
   "source": [
    "print(gs_gb.best_estimator_)\n",
    "\n",
    "# Cross validation score\n",
    "print(gs_gb.best_score_)\n",
    "\n",
    "# Neg Mean Abs Error\n",
    "y_pred_gb = np.expm1(gs_gb.best_estimator_.predict(X_train))\n",
    "nmae_gb = -mean_absolute_error(np.expm1(y_train), y_pred_gb)\n",
    "print(nmae_gb)"
   ]
  },
  {
   "cell_type": "markdown",
   "metadata": {},
   "source": [
    "A learning rate of 0.1, and a loss function set to huber with 180 estimators are optimal."
   ]
  },
  {
   "cell_type": "markdown",
   "metadata": {},
   "source": [
    "## Test ensembles"
   ]
  },
  {
   "cell_type": "code",
   "execution_count": 604,
   "metadata": {},
   "outputs": [],
   "source": [
    "tpred_rf = np.expm1(gs_rf.best_estimator_.predict(X_test))\n",
    "tpred_sv = np.expm1(gs_sv.best_estimator_.predict(X_test))\n",
    "tpred_gb = np.expm1(gs_gb.best_estimator_.predict(X_test))"
   ]
  },
  {
   "cell_type": "code",
   "execution_count": 606,
   "metadata": {},
   "outputs": [
    {
     "name": "stdout",
     "output_type": "stream",
     "text": [
      "rf mae: -17262.53153551469\n",
      "sv mae: -15930.752617648075\n",
      "gb mae: -15504.138400427957\n",
      "combined mae: -14335.53986195571\n"
     ]
    }
   ],
   "source": [
    "y_test_exp = np.expm1(y_test)\n",
    "\n",
    "nmae_test_rf = -mean_absolute_error(y_test_exp, tpred_rf)\n",
    "nmae_test_sv = -mean_absolute_error(y_test_exp, tpred_sv)\n",
    "nmae_test_gb = -mean_absolute_error(y_test_exp, tpred_gb)\n",
    "nmae_test_comb = -mean_absolute_error(y_test_exp, (tpred_rf + tpred_sv + tpred_gb) / 3)\n",
    "\n",
    "print('rf mae:', nmae_test_rf)\n",
    "print('sv mae:', nmae_test_sv)\n",
    "print('gb mae:', nmae_test_gb)\n",
    "print('combined mae:', nmae_test_comb)"
   ]
  },
  {
   "cell_type": "markdown",
   "metadata": {},
   "source": [
    "Interestingly, this is a case where 1+1 = 3 as the average of the three models performs much better than each individual model. The optimal model is therefore a combination of the three."
   ]
  },
  {
   "cell_type": "markdown",
   "metadata": {},
   "source": [
    "## Model Evaluation"
   ]
  },
  {
   "cell_type": "code",
   "execution_count": 607,
   "metadata": {},
   "outputs": [
    {
     "data": {
      "text/html": [
       "<div>\n",
       "<style scoped>\n",
       "    .dataframe tbody tr th:only-of-type {\n",
       "        vertical-align: middle;\n",
       "    }\n",
       "\n",
       "    .dataframe tbody tr th {\n",
       "        vertical-align: top;\n",
       "    }\n",
       "\n",
       "    .dataframe thead th {\n",
       "        text-align: right;\n",
       "    }\n",
       "</style>\n",
       "<table border=\"1\" class=\"dataframe\">\n",
       "  <thead>\n",
       "    <tr style=\"text-align: right;\">\n",
       "      <th></th>\n",
       "      <th>Train Neg MAE</th>\n",
       "      <th>Test Neg MAE</th>\n",
       "    </tr>\n",
       "  </thead>\n",
       "  <tbody>\n",
       "    <tr>\n",
       "      <th>Random Forest</th>\n",
       "      <td>-7581.4</td>\n",
       "      <td>-17262.531536</td>\n",
       "    </tr>\n",
       "    <tr>\n",
       "      <th>Support Vector</th>\n",
       "      <td>-17709.8</td>\n",
       "      <td>-15930.752618</td>\n",
       "    </tr>\n",
       "    <tr>\n",
       "      <th>Gradient Boosting</th>\n",
       "      <td>-9391.56</td>\n",
       "      <td>-15504.138400</td>\n",
       "    </tr>\n",
       "    <tr>\n",
       "      <th>Combined</th>\n",
       "      <td></td>\n",
       "      <td>-14335.539862</td>\n",
       "    </tr>\n",
       "  </tbody>\n",
       "</table>\n",
       "</div>"
      ],
      "text/plain": [
       "                  Train Neg MAE  Test Neg MAE\n",
       "Random Forest           -7581.4 -17262.531536\n",
       "Support Vector         -17709.8 -15930.752618\n",
       "Gradient Boosting      -9391.56 -15504.138400\n",
       "Combined                        -14335.539862"
      ]
     },
     "execution_count": 607,
     "metadata": {},
     "output_type": "execute_result"
    }
   ],
   "source": [
    "eval_df = ([nmae_rf, nmae_test_rf], [nmae_sv, nmae_test_sv], [nmae_gb, nmae_test_gb], ['', nmae_test_comb])\n",
    "pd.DataFrame(eval_df, columns = ['Train Neg MAE','Test Neg MAE'], \n",
    "             index = ['Random Forest', 'Support Vector', 'Gradient Boosting', 'Combined'])"
   ]
  },
  {
   "cell_type": "markdown",
   "metadata": {},
   "source": [
    "## Feature importance RF"
   ]
  },
  {
   "cell_type": "code",
   "execution_count": 610,
   "metadata": {},
   "outputs": [
    {
     "data": {
      "text/html": [
       "<div>\n",
       "<style scoped>\n",
       "    .dataframe tbody tr th:only-of-type {\n",
       "        vertical-align: middle;\n",
       "    }\n",
       "\n",
       "    .dataframe tbody tr th {\n",
       "        vertical-align: top;\n",
       "    }\n",
       "\n",
       "    .dataframe thead th {\n",
       "        text-align: right;\n",
       "    }\n",
       "</style>\n",
       "<table border=\"1\" class=\"dataframe\">\n",
       "  <thead>\n",
       "    <tr style=\"text-align: right;\">\n",
       "      <th></th>\n",
       "      <th>Feature</th>\n",
       "      <th>Variable Importance</th>\n",
       "    </tr>\n",
       "  </thead>\n",
       "  <tbody>\n",
       "    <tr>\n",
       "      <th>2</th>\n",
       "      <td>OverallQual</td>\n",
       "      <td>0.330655</td>\n",
       "    </tr>\n",
       "    <tr>\n",
       "      <th>12</th>\n",
       "      <td>GrLivArea</td>\n",
       "      <td>0.126630</td>\n",
       "    </tr>\n",
       "    <tr>\n",
       "      <th>9</th>\n",
       "      <td>TotalBsmtSF</td>\n",
       "      <td>0.088130</td>\n",
       "    </tr>\n",
       "    <tr>\n",
       "      <th>20</th>\n",
       "      <td>GarageArea</td>\n",
       "      <td>0.045721</td>\n",
       "    </tr>\n",
       "    <tr>\n",
       "      <th>19</th>\n",
       "      <td>GarageCars</td>\n",
       "      <td>0.040806</td>\n",
       "    </tr>\n",
       "    <tr>\n",
       "      <th>38</th>\n",
       "      <td>age</td>\n",
       "      <td>0.032982</td>\n",
       "    </tr>\n",
       "    <tr>\n",
       "      <th>1</th>\n",
       "      <td>LotArea</td>\n",
       "      <td>0.030514</td>\n",
       "    </tr>\n",
       "    <tr>\n",
       "      <th>4</th>\n",
       "      <td>YearRemodAdd</td>\n",
       "      <td>0.020636</td>\n",
       "    </tr>\n",
       "    <tr>\n",
       "      <th>0</th>\n",
       "      <td>LotFrontage</td>\n",
       "      <td>0.020093</td>\n",
       "    </tr>\n",
       "    <tr>\n",
       "      <th>13</th>\n",
       "      <td>FullBath</td>\n",
       "      <td>0.015834</td>\n",
       "    </tr>\n",
       "    <tr>\n",
       "      <th>3</th>\n",
       "      <td>OverallCond</td>\n",
       "      <td>0.013621</td>\n",
       "    </tr>\n",
       "    <tr>\n",
       "      <th>6</th>\n",
       "      <td>BsmtQual</td>\n",
       "      <td>0.012727</td>\n",
       "    </tr>\n",
       "    <tr>\n",
       "      <th>29</th>\n",
       "      <td>MoSold</td>\n",
       "      <td>0.012191</td>\n",
       "    </tr>\n",
       "    <tr>\n",
       "      <th>22</th>\n",
       "      <td>WoodDeckSF</td>\n",
       "      <td>0.011665</td>\n",
       "    </tr>\n",
       "    <tr>\n",
       "      <th>5</th>\n",
       "      <td>MasVnrArea</td>\n",
       "      <td>0.011639</td>\n",
       "    </tr>\n",
       "    <tr>\n",
       "      <th>23</th>\n",
       "      <td>OpenPorchSF</td>\n",
       "      <td>0.011603</td>\n",
       "    </tr>\n",
       "    <tr>\n",
       "      <th>18</th>\n",
       "      <td>FireplaceQu</td>\n",
       "      <td>0.009329</td>\n",
       "    </tr>\n",
       "    <tr>\n",
       "      <th>42</th>\n",
       "      <td>MSZoning_RL</td>\n",
       "      <td>0.007667</td>\n",
       "    </tr>\n",
       "    <tr>\n",
       "      <th>16</th>\n",
       "      <td>TotRmsAbvGrd</td>\n",
       "      <td>0.007517</td>\n",
       "    </tr>\n",
       "    <tr>\n",
       "      <th>14</th>\n",
       "      <td>BedroomAbvGr</td>\n",
       "      <td>0.007293</td>\n",
       "    </tr>\n",
       "    <tr>\n",
       "      <th>117</th>\n",
       "      <td>MasVnrType_BrkCmn</td>\n",
       "      <td>0.007273</td>\n",
       "    </tr>\n",
       "    <tr>\n",
       "      <th>8</th>\n",
       "      <td>BsmtExposure</td>\n",
       "      <td>0.007212</td>\n",
       "    </tr>\n",
       "    <tr>\n",
       "      <th>15</th>\n",
       "      <td>KitchenQual</td>\n",
       "      <td>0.006893</td>\n",
       "    </tr>\n",
       "    <tr>\n",
       "      <th>30</th>\n",
       "      <td>restaurants</td>\n",
       "      <td>0.006734</td>\n",
       "    </tr>\n",
       "    <tr>\n",
       "      <th>35</th>\n",
       "      <td>recreational</td>\n",
       "      <td>0.005763</td>\n",
       "    </tr>\n",
       "  </tbody>\n",
       "</table>\n",
       "</div>"
      ],
      "text/plain": [
       "               Feature  Variable Importance\n",
       "2          OverallQual             0.330655\n",
       "12           GrLivArea             0.126630\n",
       "9          TotalBsmtSF             0.088130\n",
       "20          GarageArea             0.045721\n",
       "19          GarageCars             0.040806\n",
       "38                 age             0.032982\n",
       "1              LotArea             0.030514\n",
       "4         YearRemodAdd             0.020636\n",
       "0          LotFrontage             0.020093\n",
       "13            FullBath             0.015834\n",
       "3          OverallCond             0.013621\n",
       "6             BsmtQual             0.012727\n",
       "29              MoSold             0.012191\n",
       "22          WoodDeckSF             0.011665\n",
       "5           MasVnrArea             0.011639\n",
       "23         OpenPorchSF             0.011603\n",
       "18         FireplaceQu             0.009329\n",
       "42         MSZoning_RL             0.007667\n",
       "16        TotRmsAbvGrd             0.007517\n",
       "14        BedroomAbvGr             0.007293\n",
       "117  MasVnrType_BrkCmn             0.007273\n",
       "8         BsmtExposure             0.007212\n",
       "15         KitchenQual             0.006893\n",
       "30         restaurants             0.006734\n",
       "35        recreational             0.005763"
      ]
     },
     "execution_count": 610,
     "metadata": {},
     "output_type": "execute_result"
    }
   ],
   "source": [
    "f_imp = gs_rf.best_estimator_.feature_importances_\n",
    "\n",
    "cn = df.iloc[:,1:]\n",
    "cn.drop('SalePrice_log', axis = 1, inplace = True)\n",
    "f_names = cn.columns\n",
    "\n",
    "f_df = pd.concat([pd.Series(f_names), pd.Series(f_imp)], axis = 1)\n",
    "f_df.columns = ['Feature', 'Variable Importance']\n",
    "f_df.sort_values('Variable Importance', ascending = False)[0:25]"
   ]
  },
  {
   "cell_type": "markdown",
   "metadata": {},
   "source": [
    "As a final remark, we observe that overall quality, 'Rates the overall material and finish of the house', appear to be the most important feature according to our random forest model, followed by GrLivArea: 'Above grade (ground) living area square feet'. The first Foursquare API feature to appear is 'Restaurants' in rank 21.  "
   ]
  }
 ],
 "metadata": {
  "kernelspec": {
   "display_name": "Python 3",
   "language": "python",
   "name": "python3"
  },
  "language_info": {
   "codemirror_mode": {
    "name": "ipython",
    "version": 3
   },
   "file_extension": ".py",
   "mimetype": "text/x-python",
   "name": "python",
   "nbconvert_exporter": "python",
   "pygments_lexer": "ipython3",
   "version": "3.7.6"
  }
 },
 "nbformat": 4,
 "nbformat_minor": 4
}
