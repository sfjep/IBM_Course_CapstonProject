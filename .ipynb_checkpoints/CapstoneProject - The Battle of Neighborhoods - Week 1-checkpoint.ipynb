{
 "cells": [
  {
   "cell_type": "markdown",
   "metadata": {},
   "source": [
    "# IBM Data Science Professional Specialization - Coursera"
   ]
  },
  {
   "cell_type": "markdown",
   "metadata": {},
   "source": [
    "## Applied Data Science - Capstone Project - The Battle of Neighborhoods (Week 1) "
   ]
  },
  {
   "cell_type": "markdown",
   "metadata": {},
   "source": [
    "This notebook is part of the capstone project for the final course of the IBM Data Science professional Specialization program on Coursera.\n",
    "This goal of this project is to apply the tools taught in the course to answer a self-stated research question using location data retrieved from Foursquare's API."
   ]
  },
  {
   "cell_type": "markdown",
   "metadata": {},
   "source": [
    "## 1. Introduction\n",
    "\n",
    "When attempting to explain house prices, one often considers square footage, number of bedrooms and bathrooms. But not many variables other than a categorical neighborhood variable is introduced to capture price fluctuation explained by location. A dataset popularized by Kaggle is the Ames Housing data providing 79 features to predict the price of any given house sold in Ames, Iowa. This dataset contains vast information about the house itself, and also a few pieces of information about proximity to main road or railroads.\n",
    "\n",
    "In particular, this study will break down the neighborhood variable by introducing binary indicators of various venue in the neighborhood to the prediction model. It seeks to answer:\n",
    "- What is the price tag on each relevant neighborhood feature.\n",
    "- What kind of surrounding venues matter the most"
   ]
  },
  {
   "cell_type": "markdown",
   "metadata": {},
   "source": [
    "## 2. Data\n",
    "\n",
    "The data utilized in this study will be based on Ames Housing data from Kaggle. The Ames Housing dataset was compiled by Dean De Cock for use in data science education. The Ames housing data will be merged with neighborhood data extracted from Foursquare's API. From this API, we will extract information about adjacency to e.g. schools, parks, restaurants, grocery shopping, fitness center, public transport and airport - venues that are potentially affecting the price of the residence. Only the available training data from the Ames Housing dataset is used for this study. The dataset contains the target variable, sales price, for 1460 houses, as well as features such as building year, lot size, utilties, condition of the house, quality of the house, roof style, exterior materials, size of basement, size of garage, and pool size.\n",
    "\n",
    "\n",
    "#### Data collection:\n",
    "- Ames Housing data is derived from [Kaggle](https://www.kaggle.com/c/house-prices-advanced-regression-techniques/). \n",
    "- Coordinates for neighborhoods in Ames is gathered using a [Geocoder](https://opencagedata.com/) library.\n",
    "- For each neighborhood cordinate, we call the [Foursquare](https://foursquare.com/) developer API to get data on surrounding venue.\n",
    "\n",
    "The output from this process is a two-dimensional dataframe. Each row represents a sold residence with its 79 features and 12 additional  binary indicators of various venues in every neighborhood.\n",
    "\n",
    "\n",
    "#### How the data answers the research questions\n",
    "By combining the two data sets, we will be able to answer the research question by building a prediction model that includes these neighborhood features. In doing so, we will put a pricetag on all introduced neighborhood features, which can be used by prospective buyers in Ames during price negotiation. Moreover, using regression techniques, we will obtain the significance levels for each venue and thereby answer which surrounding venues matter in pricing a residence.\n",
    "The results are also relevant for project manager seeking to maximize the value of a given construction project by placing e.g. an apartment building or house in a location with attractive venues nearby."
   ]
  },
  {
   "cell_type": "code",
   "execution_count": null,
   "metadata": {},
   "outputs": [],
   "source": []
  }
 ],
 "metadata": {
  "kernelspec": {
   "display_name": "Python 3",
   "language": "python",
   "name": "python3"
  },
  "language_info": {
   "codemirror_mode": {
    "name": "ipython",
    "version": 3
   },
   "file_extension": ".py",
   "mimetype": "text/x-python",
   "name": "python",
   "nbconvert_exporter": "python",
   "pygments_lexer": "ipython3",
   "version": "3.7.6"
  }
 },
 "nbformat": 4,
 "nbformat_minor": 4
}
