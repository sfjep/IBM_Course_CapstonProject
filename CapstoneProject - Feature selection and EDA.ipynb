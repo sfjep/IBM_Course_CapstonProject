{
 "cells": [
  {
   "cell_type": "markdown",
   "metadata": {},
   "source": [
    "## 3. Feature selection and EDA\n",
    "\n",
    "\n",
    "#### Distribution of target variable\n",
    "Since house prices are unlikely to be normally distributed, we use the natural logarithm of the sale price to obtain a more gaussian distribution\n"
   ]
  },
  {
   "cell_type": "code",
   "execution_count": null,
   "metadata": {},
   "outputs": [],
   "source": [
    "df['SalePrice_log'] = np.log(df['SalePrice'])\n",
    "\n",
    "df_salePrice = df[['SalePrice', 'SalePrice_log']]\n",
    "\n",
    "fig = plt.figure() # create figure\n",
    "\n",
    "ax0 = fig.add_subplot(1, 2, 1) # add subplot 1 (1 row, 2 columns, first plot)\n",
    "ax1 = fig.add_subplot(1, 2, 2) # add subplot 2 (1 row, 2 columns, second plot). See tip below**\n",
    "\n",
    "# Subplot 1: Histogram\n",
    "df_salePrice['SalePrice'].plot(kind='hist', color='blue', figsize=(20, 6), ax=ax0) # add to subplot 1\n",
    "ax0.set_title('Histogram of Sale Price Distribution')\n",
    "ax0.set_xlabel('Sale Price')\n",
    "ax0.set_ylabel('Number of Sales')\n",
    "\n",
    "# Subplot 2: Histogram\n",
    "df_salePrice['SalePrice_log'].plot(kind='hist', figsize=(20, 6), ax=ax1) # add to subplot 2\n",
    "ax1.set_title ('Histogram of Log Sale Price Distribution')\n",
    "ax1.set_xlabel('Log Sale Price')\n",
    "ax1.set_ylabel('Number of Sales')\n",
    "\n",
    "plt.show()"
   ]
  },
  {
   "cell_type": "markdown",
   "metadata": {},
   "source": [
    "Quick notes and reduction:\n",
    "Since 1stFlrSF + 2ndFlrSF == GrLivArea, we drop 1stFlrSF and 2ndFlrSF\n"
   ]
  },
  {
   "cell_type": "code",
   "execution_count": null,
   "metadata": {},
   "outputs": [],
   "source": [
    "df[['1stFlrSF', '2ndFlrSF']].sum(axis = 1).corr(df['GrLivArea']).round(2)\n",
    "\n",
    "df.drop(['1stFlrSF', '2ndFlrSF'], axis = 1, inplace = True)"
   ]
  },
  {
   "cell_type": "markdown",
   "metadata": {},
   "source": [
    "The feature data from the ames data set can be split into 10 categories: basement, bath, garage, kitchen, pool, fireplace, heating, masonry, porch, and finally miscellaneous.\n",
    "\n",
    "### 3.1 Basement\n",
    "\n",
    "##### Categorical features \n",
    "\n",
    "We start by constructing dictionaries to get numerical inputs rather than strings"
   ]
  },
  {
   "cell_type": "code",
   "execution_count": null,
   "metadata": {},
   "outputs": [],
   "source": [
    "rank_dict = {'Ex': 5, 'Gd': 4, 'TA': 3, 'Fa': 2, 'None': 1, 'Po':0}\n",
    "BsmtFin_dict = {'GLQ':5, 'ALQ':4, 'BLQ':3, 'Rec':2, 'LwQ':1, 'Unf':0, 'None':0}\n",
    "BsmtEx_dict = {'Gd':3, 'Av':2, 'Mn':1, 'No':0, 'None':0}\n",
    "\n",
    "#  BsmtFinType1 & 2: Rating of basement finished area 1 and 2 (if multiple types)\n",
    "df['BsmtFinType1'] = df.BsmtFinType1.replace(BsmtFin_dict)\n",
    "df['BsmtFinType2'] = df.BsmtFinType2.replace(BsmtFin_dict)\n",
    "\n",
    "# BsmtExposure: Refers to walkout or garden level walls\n",
    "df['BsmtExposure'] = df.BsmtExposure.replace(BsmtEx_dict)\n",
    "\n",
    "# BsmtCond: Condition of the basement\n",
    "df['BsmtCond'] = df.BsmtCond.replace(rank_dict)\n",
    "\n",
    "# BsmtQual: Evaluates the height of the basement\n",
    "df['BsmtQual'] = df.BsmtQual.replace(rank_dict)\n",
    "\n",
    "bsmt_cat_corr = df[['SalePrice_log','BsmtFinType1', 'BsmtFinType2', 'BsmtExposure', 'BsmtCond', 'BsmtQual']].corr()\n",
    "bsmt_cat_corr.style.background_gradient(cmap='coolwarm')\n",
    "\n",
    "bsmt_cat = ['BsmtFinType1', 'BsmtFinType2', 'BsmtExposure', 'BsmtCond', 'BsmtQual']\n",
    "\n",
    "for bsmt in bsmt_cat:\n",
    "    df.boxplot(column = 'SalePrice_log', by = bsmt)\n",
    "    plt.suptitle('')\n",
    "    plt.show()"
   ]
  },
  {
   "cell_type": "markdown",
   "metadata": {},
   "source": [
    "While BsmtFinType1 abd BsmtFinType2 don't appear to add much predictive power, they connected with the BsmtFinSF1 and BsmtFinSF2 variables, we therefore attempt create two new interaction variables.\n"
   ]
  },
  {
   "cell_type": "code",
   "execution_count": null,
   "metadata": {},
   "outputs": [],
   "source": [
    "df['BsmtType1Inter'] = df['BsmtFinType1'] * df['BsmtFinSF1']\n",
    "df['BsmtType2Inter'] = df['BsmtFinType2'] * df['BsmtFinSF2']"
   ]
  },
  {
   "cell_type": "markdown",
   "metadata": {},
   "source": [
    "##### Numerical features "
   ]
  },
  {
   "cell_type": "code",
   "execution_count": null,
   "metadata": {},
   "outputs": [],
   "source": [
    "temp_df = df[['SalePrice_log','BsmtFinSF1', 'BsmtFinSF2', 'BsmtUnfSF', 'TotalBsmtSF', 'BsmtFullBath', 'BsmtHalfBath','BsmtType1Inter', 'BsmtType2Inter']]\n",
    "\n",
    "correl = temp_df.corr()\n",
    "correl.style.background_gradient(cmap='coolwarm')\n",
    "\n",
    "sns.pairplot(temp_df)"
   ]
  },
  {
   "cell_type": "markdown",
   "metadata": {},
   "source": [
    "#### Basement summary:\n",
    "\n",
    "##### Categorical:\n",
    "From the boxplots above it is evident that BsmtCond, BsmtQual have some clear predictive power, while BsmtExposure display some evidence of predictive power. However, BsmtFinType1 and BsmtFinType2 show no predictive power.\n",
    "\n",
    "##### Numerical:\n",
    "From the scatter plots and heat map, we observe that very little explanatory power from BsmtUnfSF, BsmtFinSF2 and BsmtFullBath, BsmtHalfBath. To save running time and prevent overfitting we remove them. We did not see any significant improvement in the predictive performance of BsmtFinType1 and BsmtFinType2 after interacting with BsmtFinSF1, BsmtFinSF2. We therefore drop the interaction terms. BsmtFinSF1 is also removed due to the strong correlation with the TotalBsmtSF variable. \n"
   ]
  },
  {
   "cell_type": "code",
   "execution_count": null,
   "metadata": {},
   "outputs": [],
   "source": [
    "df.drop(['BsmtFinType1', 'BsmtFinType2', 'BsmtFinSF1', 'BsmtFinSF2', \n",
    "         'BsmtUnfSF', 'BsmtFullBath', 'BsmtHalfBath', 'BsmtType1Inter', 'BsmtType2Inter'], axis = 1, inplace = True)"
   ]
  },
  {
   "cell_type": "markdown",
   "metadata": {},
   "source": [
    "### 3.2 Garage\n",
    "\n",
    "#### Categorical variables for Garage"
   ]
  },
  {
   "cell_type": "code",
   "execution_count": null,
   "metadata": {},
   "outputs": [],
   "source": [
    "rank_dict = {'Ex': 5, 'Gd': 4, 'TA': 3, 'Fa': 2, 'None': 1, 'Po':0}\n",
    "GarFin_dict = {'Fin':2, 'RFn':1, 'Unf':0}\n",
    "GarType_dict = {'2Types': '2Types', 'Attchd': 'BuiltIn', 'Basment': 'BuiltIn', 'CarPort': 'Separate', \n",
    "               'Detchd': 'Separate'}\n",
    "\n",
    "# Garage Quality and Condition\n",
    "df['GarageQual'] = df.GarageQual.replace(rank_dict)\n",
    "df['GarageCond'] = df.GarageCond.replace(rank_dict)\n",
    "df['GarageFinish'] = df.GarageFinish.replace(GarFin_dict)\n",
    "\n",
    "# Since type of garage is either built in the house or separate from the house, we can categorize some of them together:\n",
    "df['GarageType'] = df['GarageType'].replace(GarType_dict)\n",
    "df.loc[df['GarageType'].isna(), 'GarageType'] = 'NoGarage'\n",
    "\n",
    "# Garage \n",
    "g_cat = ['GarageType', 'GarageQual', 'GarageCond', 'GarageFinish']\n",
    "\n",
    "for gar in g_cat:\n",
    "    df.boxplot(column = 'SalePrice_log', by = gar)\n",
    "    plt.suptitle('')\n",
    "    plt.show()"
   ]
  },
  {
   "cell_type": "code",
   "execution_count": null,
   "metadata": {},
   "outputs": [],
   "source": [
    "#### Numerical for Garage\n",
    "\n",
    "df['YrSinceGarageBlt'] = df['YrSold'] - df['GarageYrBlt']\n",
    "\n",
    "sns.pairplot(df[['SalePrice_log','YrSinceGarageBlt', 'GarageCars', 'GarageArea', 'GarageQual','GarageCond']])\n"
   ]
  },
  {
   "cell_type": "markdown",
   "metadata": {},
   "source": [
    "##### Summary:\n",
    "GarageQual and GarageCond seem very similar in the data description. We observe a high correlation and can therefore remove one of them. We will remove GarageCond.\n",
    "GarageCars represents width, given that the more cars, most likely, the wider the garage. Garage area is the total square ft. They do tell some of them same story, but are not exactly the same. We chose to keep both for now. \n",
    "The YrSinceGarageBlt feature seem to capture a negative relation, the older the garage the lower the price. This varaible should be tested against the age of the house, as they may explain the same. \n"
   ]
  },
  {
   "cell_type": "code",
   "execution_count": null,
   "metadata": {},
   "outputs": [],
   "source": [
    "df.drop('GarageCond', axis = 1, inplace = True)"
   ]
  },
  {
   "cell_type": "code",
   "execution_count": null,
   "metadata": {},
   "outputs": [],
   "source": [
    "# Number of sales in each neighborhood\n",
    "sales_nbh = df['Neighborhood'].value_counts()\n",
    "sales_nbh.columns = ['Number of Sales']\n",
    "\n",
    "sales_nbh.plot(kind = 'bar')\n",
    "plt.title('Number of Sales in Ames\\' Neighborhoods')\n",
    "plt.ylabel('Number of Sales')\n",
    "plt.xlabel('Neighborhood')\n",
    "plt.show()\n"
   ]
  },
  {
   "cell_type": "code",
   "execution_count": null,
   "metadata": {},
   "outputs": [],
   "source": [
    "# AVG SALE PRICE BY NEIGHBORHOOD\n",
    "nbhAvgPrice = df.groupby('Neighborhood')['SalePrice'].mean().sort_values(ascending = False)\n",
    "nbhAvgPrice = nbhAvgPrice.to_frame().rename(columns={'SalePrice': 'AvgSalePrice'})\n",
    "nbhAvgPrice['AvgSalePrice'] = nbhAvgPrice['AvgSalePrice'].round(2)\n",
    "nbhAvgPrice = nbhAvgPrice.merge(nbh_df, on = 'Neighborhood')\n",
    "nbhAvgPrice.head()\n"
   ]
  },
  {
   "cell_type": "code",
   "execution_count": null,
   "metadata": {},
   "outputs": [],
   "source": [
    "#corr = df[['SalePrice_log','BsmtFinType1', 'BsmtFinType2', 'BsmtExposure', 'BsmtCond', 'BsmtQual']].corr()\n",
    "#corr.style.background_gradient(cmap='coolwarm')\n"
   ]
  },
  {
   "cell_type": "code",
   "execution_count": null,
   "metadata": {},
   "outputs": [],
   "source": [
    "# Visual plot\n",
    "# create map of Ames using latitude and longitude values\n",
    "ames_latitude = 43.651070\n",
    "ames_longitude = -93.620369\n",
    "\n",
    "map_ames = folium.Map(location=[ames_latitude, ames_longitude], zoom_start=10)\n",
    "\n",
    "# add markers to map\n",
    "for lat, lng, neighborhood, avgPrice in zip(nbhAvgPrice['Latitude'], nbhAvgPrice['Longitude'], nbhAvgPrice['Neighborhood'], nbhAvgPrice['AvgSalePrice']):\n",
    "    label = '{}, Average Sales Price: {}'.format(neighborhood, avgPrice)\n",
    "    label = folium.Popup(label, parse_html=True)\n",
    "    folium.CircleMarker(\n",
    "        [lat, lng],\n",
    "        radius=5,\n",
    "        popup=label,\n",
    "        color='blue',\n",
    "        fill=True,\n",
    "        fill_color='#3186cc',\n",
    "        fill_opacity=0.7,\n",
    "        parse_html=False).add_to(map_ames)  \n",
    "\n",
    "display(map_ames)\n",
    "\n",
    "# Lat/lng: Ames, IA, USA\n",
    "\n",
    "\n",
    "\n",
    "#df['Neighborhood'] = df['Neighborhood'].map(nbh)"
   ]
  }
 ],
 "metadata": {
  "kernelspec": {
   "display_name": "Python 3",
   "language": "python",
   "name": "python3"
  },
  "language_info": {
   "codemirror_mode": {
    "name": "ipython",
    "version": 3
   },
   "file_extension": ".py",
   "mimetype": "text/x-python",
   "name": "python",
   "nbconvert_exporter": "python",
   "pygments_lexer": "ipython3",
   "version": "3.7.6"
  }
 },
 "nbformat": 4,
 "nbformat_minor": 4
}
